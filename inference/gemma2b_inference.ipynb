{
  "nbformat": 4,
  "nbformat_minor": 0,
  "metadata": {
    "colab": {
      "provenance": [],
      "gpuType": "T4"
    },
    "kernelspec": {
      "name": "python3",
      "display_name": "Python 3"
    },
    "language_info": {
      "name": "python"
    },
    "accelerator": "GPU",
    "widgets": {
      "application/vnd.jupyter.widget-state+json": {
        "31fb767cd77f4145ad55253acd12cd01": {
          "model_module": "@jupyter-widgets/controls",
          "model_name": "HBoxModel",
          "model_module_version": "1.5.0",
          "state": {
            "_dom_classes": [],
            "_model_module": "@jupyter-widgets/controls",
            "_model_module_version": "1.5.0",
            "_model_name": "HBoxModel",
            "_view_count": null,
            "_view_module": "@jupyter-widgets/controls",
            "_view_module_version": "1.5.0",
            "_view_name": "HBoxView",
            "box_style": "",
            "children": [
              "IPY_MODEL_69009da16f1a40aaa6aa92042a631f90",
              "IPY_MODEL_9b0a402d8630437b943a2d87f2e26b51",
              "IPY_MODEL_dce49d4b405a4abfbdeb68c7cc70cf6c"
            ],
            "layout": "IPY_MODEL_c09bd5217c5b4362af1f03495cfca23b"
          }
        },
        "69009da16f1a40aaa6aa92042a631f90": {
          "model_module": "@jupyter-widgets/controls",
          "model_name": "HTMLModel",
          "model_module_version": "1.5.0",
          "state": {
            "_dom_classes": [],
            "_model_module": "@jupyter-widgets/controls",
            "_model_module_version": "1.5.0",
            "_model_name": "HTMLModel",
            "_view_count": null,
            "_view_module": "@jupyter-widgets/controls",
            "_view_module_version": "1.5.0",
            "_view_name": "HTMLView",
            "description": "",
            "description_tooltip": null,
            "layout": "IPY_MODEL_f08955c8db3d4756924688cfbb8ec094",
            "placeholder": "​",
            "style": "IPY_MODEL_f6649742e1984ec099afa592effeb9a1",
            "value": "Loading checkpoint shards: 100%"
          }
        },
        "9b0a402d8630437b943a2d87f2e26b51": {
          "model_module": "@jupyter-widgets/controls",
          "model_name": "FloatProgressModel",
          "model_module_version": "1.5.0",
          "state": {
            "_dom_classes": [],
            "_model_module": "@jupyter-widgets/controls",
            "_model_module_version": "1.5.0",
            "_model_name": "FloatProgressModel",
            "_view_count": null,
            "_view_module": "@jupyter-widgets/controls",
            "_view_module_version": "1.5.0",
            "_view_name": "ProgressView",
            "bar_style": "success",
            "description": "",
            "description_tooltip": null,
            "layout": "IPY_MODEL_cf1e27ac07dd464b832aaf67fb8925fe",
            "max": 2,
            "min": 0,
            "orientation": "horizontal",
            "style": "IPY_MODEL_3eba9953742e4a0fad709bd7c5bac34e",
            "value": 2
          }
        },
        "dce49d4b405a4abfbdeb68c7cc70cf6c": {
          "model_module": "@jupyter-widgets/controls",
          "model_name": "HTMLModel",
          "model_module_version": "1.5.0",
          "state": {
            "_dom_classes": [],
            "_model_module": "@jupyter-widgets/controls",
            "_model_module_version": "1.5.0",
            "_model_name": "HTMLModel",
            "_view_count": null,
            "_view_module": "@jupyter-widgets/controls",
            "_view_module_version": "1.5.0",
            "_view_name": "HTMLView",
            "description": "",
            "description_tooltip": null,
            "layout": "IPY_MODEL_038f3abd35d4434faaf2e1028626430a",
            "placeholder": "​",
            "style": "IPY_MODEL_26835d06ef8944fcbf396da9d5ca2956",
            "value": " 2/2 [00:24&lt;00:00, 10.47s/it]"
          }
        },
        "c09bd5217c5b4362af1f03495cfca23b": {
          "model_module": "@jupyter-widgets/base",
          "model_name": "LayoutModel",
          "model_module_version": "1.2.0",
          "state": {
            "_model_module": "@jupyter-widgets/base",
            "_model_module_version": "1.2.0",
            "_model_name": "LayoutModel",
            "_view_count": null,
            "_view_module": "@jupyter-widgets/base",
            "_view_module_version": "1.2.0",
            "_view_name": "LayoutView",
            "align_content": null,
            "align_items": null,
            "align_self": null,
            "border": null,
            "bottom": null,
            "display": null,
            "flex": null,
            "flex_flow": null,
            "grid_area": null,
            "grid_auto_columns": null,
            "grid_auto_flow": null,
            "grid_auto_rows": null,
            "grid_column": null,
            "grid_gap": null,
            "grid_row": null,
            "grid_template_areas": null,
            "grid_template_columns": null,
            "grid_template_rows": null,
            "height": null,
            "justify_content": null,
            "justify_items": null,
            "left": null,
            "margin": null,
            "max_height": null,
            "max_width": null,
            "min_height": null,
            "min_width": null,
            "object_fit": null,
            "object_position": null,
            "order": null,
            "overflow": null,
            "overflow_x": null,
            "overflow_y": null,
            "padding": null,
            "right": null,
            "top": null,
            "visibility": null,
            "width": null
          }
        },
        "f08955c8db3d4756924688cfbb8ec094": {
          "model_module": "@jupyter-widgets/base",
          "model_name": "LayoutModel",
          "model_module_version": "1.2.0",
          "state": {
            "_model_module": "@jupyter-widgets/base",
            "_model_module_version": "1.2.0",
            "_model_name": "LayoutModel",
            "_view_count": null,
            "_view_module": "@jupyter-widgets/base",
            "_view_module_version": "1.2.0",
            "_view_name": "LayoutView",
            "align_content": null,
            "align_items": null,
            "align_self": null,
            "border": null,
            "bottom": null,
            "display": null,
            "flex": null,
            "flex_flow": null,
            "grid_area": null,
            "grid_auto_columns": null,
            "grid_auto_flow": null,
            "grid_auto_rows": null,
            "grid_column": null,
            "grid_gap": null,
            "grid_row": null,
            "grid_template_areas": null,
            "grid_template_columns": null,
            "grid_template_rows": null,
            "height": null,
            "justify_content": null,
            "justify_items": null,
            "left": null,
            "margin": null,
            "max_height": null,
            "max_width": null,
            "min_height": null,
            "min_width": null,
            "object_fit": null,
            "object_position": null,
            "order": null,
            "overflow": null,
            "overflow_x": null,
            "overflow_y": null,
            "padding": null,
            "right": null,
            "top": null,
            "visibility": null,
            "width": null
          }
        },
        "f6649742e1984ec099afa592effeb9a1": {
          "model_module": "@jupyter-widgets/controls",
          "model_name": "DescriptionStyleModel",
          "model_module_version": "1.5.0",
          "state": {
            "_model_module": "@jupyter-widgets/controls",
            "_model_module_version": "1.5.0",
            "_model_name": "DescriptionStyleModel",
            "_view_count": null,
            "_view_module": "@jupyter-widgets/base",
            "_view_module_version": "1.2.0",
            "_view_name": "StyleView",
            "description_width": ""
          }
        },
        "cf1e27ac07dd464b832aaf67fb8925fe": {
          "model_module": "@jupyter-widgets/base",
          "model_name": "LayoutModel",
          "model_module_version": "1.2.0",
          "state": {
            "_model_module": "@jupyter-widgets/base",
            "_model_module_version": "1.2.0",
            "_model_name": "LayoutModel",
            "_view_count": null,
            "_view_module": "@jupyter-widgets/base",
            "_view_module_version": "1.2.0",
            "_view_name": "LayoutView",
            "align_content": null,
            "align_items": null,
            "align_self": null,
            "border": null,
            "bottom": null,
            "display": null,
            "flex": null,
            "flex_flow": null,
            "grid_area": null,
            "grid_auto_columns": null,
            "grid_auto_flow": null,
            "grid_auto_rows": null,
            "grid_column": null,
            "grid_gap": null,
            "grid_row": null,
            "grid_template_areas": null,
            "grid_template_columns": null,
            "grid_template_rows": null,
            "height": null,
            "justify_content": null,
            "justify_items": null,
            "left": null,
            "margin": null,
            "max_height": null,
            "max_width": null,
            "min_height": null,
            "min_width": null,
            "object_fit": null,
            "object_position": null,
            "order": null,
            "overflow": null,
            "overflow_x": null,
            "overflow_y": null,
            "padding": null,
            "right": null,
            "top": null,
            "visibility": null,
            "width": null
          }
        },
        "3eba9953742e4a0fad709bd7c5bac34e": {
          "model_module": "@jupyter-widgets/controls",
          "model_name": "ProgressStyleModel",
          "model_module_version": "1.5.0",
          "state": {
            "_model_module": "@jupyter-widgets/controls",
            "_model_module_version": "1.5.0",
            "_model_name": "ProgressStyleModel",
            "_view_count": null,
            "_view_module": "@jupyter-widgets/base",
            "_view_module_version": "1.2.0",
            "_view_name": "StyleView",
            "bar_color": null,
            "description_width": ""
          }
        },
        "038f3abd35d4434faaf2e1028626430a": {
          "model_module": "@jupyter-widgets/base",
          "model_name": "LayoutModel",
          "model_module_version": "1.2.0",
          "state": {
            "_model_module": "@jupyter-widgets/base",
            "_model_module_version": "1.2.0",
            "_model_name": "LayoutModel",
            "_view_count": null,
            "_view_module": "@jupyter-widgets/base",
            "_view_module_version": "1.2.0",
            "_view_name": "LayoutView",
            "align_content": null,
            "align_items": null,
            "align_self": null,
            "border": null,
            "bottom": null,
            "display": null,
            "flex": null,
            "flex_flow": null,
            "grid_area": null,
            "grid_auto_columns": null,
            "grid_auto_flow": null,
            "grid_auto_rows": null,
            "grid_column": null,
            "grid_gap": null,
            "grid_row": null,
            "grid_template_areas": null,
            "grid_template_columns": null,
            "grid_template_rows": null,
            "height": null,
            "justify_content": null,
            "justify_items": null,
            "left": null,
            "margin": null,
            "max_height": null,
            "max_width": null,
            "min_height": null,
            "min_width": null,
            "object_fit": null,
            "object_position": null,
            "order": null,
            "overflow": null,
            "overflow_x": null,
            "overflow_y": null,
            "padding": null,
            "right": null,
            "top": null,
            "visibility": null,
            "width": null
          }
        },
        "26835d06ef8944fcbf396da9d5ca2956": {
          "model_module": "@jupyter-widgets/controls",
          "model_name": "DescriptionStyleModel",
          "model_module_version": "1.5.0",
          "state": {
            "_model_module": "@jupyter-widgets/controls",
            "_model_module_version": "1.5.0",
            "_model_name": "DescriptionStyleModel",
            "_view_count": null,
            "_view_module": "@jupyter-widgets/base",
            "_view_module_version": "1.2.0",
            "_view_name": "StyleView",
            "description_width": ""
          }
        }
      }
    }
  },
  "cells": [
    {
      "cell_type": "code",
      "source": [
        "%%capture\n",
        "%pip install -U bitsandbytes\n",
        "%pip install -U transformers\n",
        "%pip install -U accelerate"
      ],
      "metadata": {
        "id": "Bf3CsOuT1CGa"
      },
      "execution_count": null,
      "outputs": []
    },
    {
      "cell_type": "code",
      "source": [
        "from huggingface_hub import login\n",
        "\n",
        "login(token = HUGGINGFACE_TOKEN) # create an access token in hugging face with token type as \"write\""
      ],
      "metadata": {
        "id": "qwRZWwn41NMD"
      },
      "execution_count": null,
      "outputs": []
    },
    {
      "cell_type": "code",
      "source": [
        "import os\n",
        "# Disable torch dynamo completely\n",
        "os.environ[\"PYTORCH_DISABLE_PYTORCH_LIGHTNING_DYNAMO\"] = \"1\"\n",
        "os.environ[\"TORCH_COMPILE_DISABLE\"] = \"1\"\n",
        "os.environ[\"TORCHDYNAMO_DISABLE\"] = \"1\""
      ],
      "metadata": {
        "id": "4XSTQJqC-rsr"
      },
      "execution_count": null,
      "outputs": []
    },
    {
      "cell_type": "code",
      "source": [
        "import torch\n",
        "from transformers import AutoModelForCausalLM, AutoTokenizer, BitsAndBytesConfig, AutoConfig\n",
        "\n",
        "modelName = \"google/gemma-2-2b-it\"\n",
        "\n",
        "bnbConfig = BitsAndBytesConfig(\n",
        "    load_in_4bit = True,\n",
        "    bnb_4bit_quant_type=\"nf4\",\n",
        "    bnb_4bit_compute_dtype=torch.bfloat16,\n",
        ")\n",
        "\n",
        "tokenizer = AutoTokenizer.from_pretrained(modelName)\n",
        "\n",
        "model = AutoModelForCausalLM.from_pretrained(\n",
        "    modelName,\n",
        "    device_map = \"auto\",\n",
        "    quantization_config=bnbConfig\n",
        ")"
      ],
      "metadata": {
        "colab": {
          "base_uri": "https://localhost:8080/",
          "height": 49,
          "referenced_widgets": [
            "31fb767cd77f4145ad55253acd12cd01",
            "69009da16f1a40aaa6aa92042a631f90",
            "9b0a402d8630437b943a2d87f2e26b51",
            "dce49d4b405a4abfbdeb68c7cc70cf6c",
            "c09bd5217c5b4362af1f03495cfca23b",
            "f08955c8db3d4756924688cfbb8ec094",
            "f6649742e1984ec099afa592effeb9a1",
            "cf1e27ac07dd464b832aaf67fb8925fe",
            "3eba9953742e4a0fad709bd7c5bac34e",
            "038f3abd35d4434faaf2e1028626430a",
            "26835d06ef8944fcbf396da9d5ca2956"
          ]
        },
        "id": "opplCVE5LXdB",
        "outputId": "eb5bd109-c430-4f68-9a6b-9325ab351f6f"
      },
      "execution_count": null,
      "outputs": [
        {
          "output_type": "display_data",
          "data": {
            "text/plain": [
              "Loading checkpoint shards:   0%|          | 0/2 [00:00<?, ?it/s]"
            ],
            "application/vnd.jupyter.widget-view+json": {
              "version_major": 2,
              "version_minor": 0,
              "model_id": "31fb767cd77f4145ad55253acd12cd01"
            }
          },
          "metadata": {}
        }
      ]
    },
    {
      "cell_type": "code",
      "source": [
        "from IPython.display import Markdown, display\n",
        "import torch._dynamo\n",
        "\n",
        "system =  \"You are a legal assistant. You help the user with Indian legal law related queries.\"\n",
        "user = \"What is the difference between a petition and a plaint in Indian law?\"\n",
        "\n",
        "prompt = f\"System: {system} \\n User: {user} \\n AI: \"\n",
        "\n",
        "inputs = tokenizer(prompt, return_tensors='pt', padding=True, truncation=True).to(\"cuda\")\n",
        "\n",
        "outputs = model.generate(**inputs, max_length=500, num_return_sequences=1)\n",
        "\n",
        "text = tokenizer.decode(outputs[0], skip_special_tokens=True)\n",
        "\n",
        "Markdown(text.split(\"AI:\")[1])"
      ],
      "metadata": {
        "colab": {
          "base_uri": "https://localhost:8080/",
          "height": 570
        },
        "id": "bWAnsziBLfHw",
        "outputId": "0a3f7e1d-fa3e-4b99-877c-041d25f20eef"
      },
      "execution_count": null,
      "outputs": [
        {
          "output_type": "execute_result",
          "data": {
            "text/plain": [
              "<IPython.core.display.Markdown object>"
            ],
            "text/markdown": " \n  A petition and a plaint are both documents filed in a court of law in India, but they have distinct purposes and structures. \n\n**Here's a breakdown of the differences:**\n\n**Petition:**\n\n* **Definition:** A petition is a formal document filed by a party (plaintiff or petitioner) in a court of law to seek a specific relief or order. \n* **Purpose:** To initiate legal proceedings and seek a remedy for a legal wrong or violation.\n* **Content:** Typically includes a detailed statement of facts, legal arguments, and the relief sought. \n* **Examples:** \n    * A petition for divorce.\n    * A petition for maintenance.\n    * A petition for custody of a child.\n\n**Plaint:**\n\n* **Definition:** A plaint is a document filed by a plaintiff in a civil suit. It is essentially a complaint that outlines the plaintiff's claim against the defendant.\n* **Purpose:** To initiate a civil suit and seek a remedy for a civil wrong or breach of contract.\n* **Content:**  Includes a detailed statement of facts, legal arguments, and the relief sought. \n* **Examples:** \n    * A plaint for breach of contract.\n    * A plaint for recovery of debt.\n    * A plaint for damages.\n\n**Key Differences:**\n\n* **Nature of proceedings:** A petition is used in a wide range of legal proceedings, while a plaint is specifically used in civil suits.\n* **Parties involved:** A petition can be filed by either a plaintiff or a defendant, while a plaint is always filed by the plaintiff.\n* **Focus:** A petition focuses on seeking a specific relief or order, while a plaint focuses on initiating a civil suit and seeking a remedy for a civil wrong.\n\n**In summary:**\n\n* **Petition:** A general term for a document filed in court seeking a specific relief.\n* **Plaint:** A specific document filed in a civil suit to initiate a legal action.\n\n\n**Note:** This information is for general knowledge and should not be considered legal advice. It is always best to consult with a qualified legal professional for specific legal advice. "
          },
          "metadata": {},
          "execution_count": 19
        }
      ]
    },
    {
      "cell_type": "code",
      "source": [],
      "metadata": {
        "id": "U2oGIamZL4d_"
      },
      "execution_count": null,
      "outputs": []
    }
  ]
}